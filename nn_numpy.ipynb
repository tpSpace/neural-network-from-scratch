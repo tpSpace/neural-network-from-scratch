{
  "cells": [
    {
      "cell_type": "markdown",
      "metadata": {
        "id": "view-in-github",
        "colab_type": "text"
      },
      "source": [
        "<a href=\"https://colab.research.google.com/github/tpSpace/neural-network-from-scratch/blob/master/nn_numpy.ipynb\" target=\"_parent\"><img src=\"https://colab.research.google.com/assets/colab-badge.svg\" alt=\"Open In Colab\"/></a>"
      ]
    },
    {
      "cell_type": "markdown",
      "source": [],
      "metadata": {
        "id": "eibufcnMS7YT"
      }
    },
    {
      "cell_type": "markdown",
      "metadata": {
        "id": "5zqCRPW35dYz"
      },
      "source": [
        "Import necessary libararies"
      ]
    },
    {
      "cell_type": "code",
      "execution_count": null,
      "metadata": {
        "id": "7kgzjqXY0vJw"
      },
      "outputs": [],
      "source": [
        "import numpy as np\n",
        "# import cupy as np\n",
        "import matplotlib.pyplot as plt\n",
        "import opendatasets as od\n",
        "import pandas as pd"
      ]
    },
    {
      "cell_type": "code",
      "execution_count": 81,
      "metadata": {
        "colab": {
          "base_uri": "https://localhost:8080/"
        },
        "id": "8U8Qk5Ab0zdy",
        "outputId": "fcc4d523-f4a0-45c9-e204-0250213cbb12"
      },
      "outputs": [
        {
          "output_type": "stream",
          "name": "stdout",
          "text": [
            "Skipping, found downloaded files in \"./digit-recognizer\" (use force=True to force download)\n"
          ]
        }
      ],
      "source": [
        "# od.download(\"https://www.kaggle.com/datasets/altruistdelhite04/gold-price-data/data\")\n",
        "od.download(\"https://www.kaggle.com/competitions/digit-recognizer/data\")"
      ]
    },
    {
      "cell_type": "code",
      "execution_count": null,
      "metadata": {
        "id": "oxKneXPB4tgp"
      },
      "outputs": [],
      "source": [
        "# load data set from csv file.\n",
        "data_train = pd.read_csv('./digit-recognizer/train.csv')\n",
        "data_test = pd.read_csv('./digit-recognizer/test.csv')\n",
        "# print data ( lucky for us the data has been processed into csv file)\n",
        "data_train.head()"
      ]
    },
    {
      "cell_type": "code",
      "source": [
        "# convert data into numpy array type.\n",
        "data_train = np.array(data_train)\n",
        "data_test = np.array(data_test)\n",
        "\n",
        "# get dimension from the dataset\n",
        "m, n = data_train.shape\n",
        "print(m, n)\n",
        "\n",
        "# let get the matrix transposed\n",
        "data_train = data_train[:].T\n",
        "x_train = data_train[1:n]\n",
        "y_train = data_train[0]\n",
        "\n",
        "data_test = data_test[:].T\n",
        "x_test = data_train[1:n]\n",
        "y_test = data_train[0]"
      ],
      "metadata": {
        "colab": {
          "base_uri": "https://localhost:8080/"
        },
        "id": "e6yuklw0PgAT",
        "outputId": "16d217b6-d29e-4ea6-a496-e1a686764e21"
      },
      "execution_count": 83,
      "outputs": [
        {
          "output_type": "stream",
          "name": "stdout",
          "text": [
            "42000 785\n"
          ]
        }
      ]
    },
    {
      "cell_type": "code",
      "source": [
        "def init_params():\n",
        "  w1 = np.random.randn(10,784) - 0.5\n",
        "  b1 = np.random.randn(10, 1)\n",
        "  w2 = np.random.randn(10,10) - 0.5\n",
        "  b2 = np.random.randn(10, 1)\n",
        "  return w1, b1, w2, b2\n",
        "\n",
        "def ReLU(z):\n",
        "  # if z > 0 then return z else return 0\n",
        "  return np.maximum(0, z)\n",
        "\n",
        "def softmax(z):\n",
        "    exp_z = np.exp(z - np.max(z, axis=0, keepdims=True))  # Stability improvement\n",
        "    return exp_z / np.sum(exp_z, axis=0, keepdims=True)\n",
        "\n",
        "def forward_prop(w1, b1, w2, b2, x):\n",
        "  x = np.array(x)\n",
        "  z1 = w1.dot(x) + b1\n",
        "  a1 = ReLU(z1)\n",
        "\n",
        "  z2 = w2.dot(a1) + b2\n",
        "  a2 = softmax(z2)\n",
        "  return z1, a1, z2, a2\n",
        "\n",
        "def one_hot(Y):\n",
        "    one_hot_Y = np.zeros((Y.size, Y.max() + 1))\n",
        "    one_hot_Y[np.arange(Y.size), Y] = 1\n",
        "    one_hot_Y = one_hot_Y.T\n",
        "    return one_hot_Y\n",
        "\n",
        "def deriv_ReLU(z):\n",
        "  return z > 0\n",
        "\n",
        "def back_prop(z1, a1, z2, a2, w1, w2, x, y):\n",
        "  m = y.size\n",
        "  one_hot_y = one_hot(y)\n",
        "\n",
        "  dz2 = a2 - one_hot_y\n",
        "  dw2 = 1 / m * dz2.dot(a1.T)\n",
        "  db2 = 1 / m * np.sum(dz2, axis=1, keepdims=True) # , axis=1, keepdims=True\n",
        "\n",
        "  dz1 = w2.T.dot(dz2) * deriv_ReLU(z1)\n",
        "  dw1 = 1 / m * dz2.dot(x.T)\n",
        "  db1 = 1 / m * np.sum(dz1, axis=1, keepdims=True) # , axis=1, keepdims=True\n",
        "\n",
        "  return dw1, db1, dw2, db2\n",
        "\n",
        "def update_params(w1, b1, w2, b2, dw1, db1, dw2, db2, alpha):\n",
        "  w1 = w1 - alpha * dw1\n",
        "  b1 = b1 - alpha * db1\n",
        "\n",
        "  w2 = w2 - alpha * dw2\n",
        "  b2 = b2 - alpha * db2\n",
        "\n",
        "  return w1, b1, w2, b2\n",
        "\n"
      ],
      "metadata": {
        "id": "bQ0oGDALQtlr"
      },
      "execution_count": 84,
      "outputs": []
    },
    {
      "cell_type": "code",
      "source": [
        "def get_predictions(a2):\n",
        "  return np.argmax(a2, 0)\n",
        "\n",
        "def get_accuracy(predictions, y):\n",
        "  print(predictions ,y)\n",
        "  return np.sum(predictions == y) / y.size\n",
        "\n",
        "def gradient_descent(x, y, iterations, alpha):\n",
        "  w1, b1, w2, b2 = init_params()\n",
        "\n",
        "  for i in range(iterations):\n",
        "\n",
        "      z1, a1, z2, a2 = forward_prop(w1, b1, w2, b2, x)\n",
        "      dw1, db1, dw2, db2 = back_prop(z1, a1, z2, a2, w1, w2, x, y)\n",
        "      w1, b1, w2, b2 = update_params(w1, b1, w2, b2, dw1, db1, dw2, db2, alpha)\n",
        "\n",
        "      if (i % 10 == 0):\n",
        "          print(\"Iteration: \", i)\n",
        "          print(\"Accuracy: \", get_accuracy(get_predictions(a2), y))\n",
        "  return w1, b1, w2, b2\n"
      ],
      "metadata": {
        "id": "G-qhbTKMjq9I"
      },
      "execution_count": 85,
      "outputs": []
    },
    {
      "cell_type": "markdown",
      "source": [],
      "metadata": {
        "id": "1ADvtru0b3Dv"
      }
    },
    {
      "cell_type": "code",
      "source": [
        "w1, b1, w2, b2 = gradient_descent(x_train, y_train, 666, 0.01)"
      ],
      "metadata": {
        "colab": {
          "base_uri": "https://localhost:8080/"
        },
        "id": "l1EogMFxliXo",
        "outputId": "5f44d851-b0de-4741-aa1c-ed5105bd57d5"
      },
      "execution_count": 86,
      "outputs": [
        {
          "output_type": "stream",
          "name": "stdout",
          "text": [
            "Iteration:  0\n",
            "[8 8 8 ... 8 8 8] [1 0 1 ... 7 6 9]\n",
            "Accuracy:  0.09678571428571428\n",
            "Iteration:  10\n",
            "[3 5 1 ... 7 4 2] [1 0 1 ... 7 6 9]\n",
            "Accuracy:  0.36233333333333334\n",
            "Iteration:  20\n",
            "[3 0 1 ... 9 6 9] [1 0 1 ... 7 6 9]\n",
            "Accuracy:  0.6061904761904762\n",
            "Iteration:  30\n",
            "[1 2 1 ... 7 2 4] [1 0 1 ... 7 6 9]\n",
            "Accuracy:  0.5317857142857143\n",
            "Iteration:  40\n",
            "[1 0 1 ... 7 6 4] [1 0 1 ... 7 6 9]\n",
            "Accuracy:  0.6079285714285714\n",
            "Iteration:  50\n",
            "[1 0 1 ... 7 6 9] [1 0 1 ... 7 6 9]\n",
            "Accuracy:  0.6990714285714286\n",
            "Iteration:  60\n",
            "[1 0 1 ... 7 6 9] [1 0 1 ... 7 6 9]\n",
            "Accuracy:  0.7595\n",
            "Iteration:  70\n",
            "[1 0 1 ... 7 6 9] [1 0 1 ... 7 6 9]\n",
            "Accuracy:  0.7637142857142857\n",
            "Iteration:  80\n",
            "[1 0 1 ... 7 6 9] [1 0 1 ... 7 6 9]\n",
            "Accuracy:  0.765\n",
            "Iteration:  90\n",
            "[8 0 1 ... 7 6 9] [1 0 1 ... 7 6 9]\n",
            "Accuracy:  0.7328333333333333\n",
            "Iteration:  100\n",
            "[8 0 1 ... 7 6 9] [1 0 1 ... 7 6 9]\n",
            "Accuracy:  0.7547142857142857\n",
            "Iteration:  110\n",
            "[8 0 1 ... 7 6 9] [1 0 1 ... 7 6 9]\n",
            "Accuracy:  0.7666428571428572\n",
            "Iteration:  120\n",
            "[1 0 1 ... 7 6 7] [1 0 1 ... 7 6 9]\n",
            "Accuracy:  0.6740952380952381\n",
            "Iteration:  130\n",
            "[1 0 1 ... 7 6 9] [1 0 1 ... 7 6 9]\n",
            "Accuracy:  0.7695238095238095\n",
            "Iteration:  140\n",
            "[8 0 1 ... 7 6 9] [1 0 1 ... 7 6 9]\n",
            "Accuracy:  0.7622380952380953\n",
            "Iteration:  150\n",
            "[1 0 1 ... 7 6 9] [1 0 1 ... 7 6 9]\n",
            "Accuracy:  0.8253095238095238\n",
            "Iteration:  160\n",
            "[1 0 1 ... 7 6 4] [1 0 1 ... 7 6 9]\n",
            "Accuracy:  0.7213333333333334\n",
            "Iteration:  170\n",
            "[1 0 1 ... 7 6 9] [1 0 1 ... 7 6 9]\n",
            "Accuracy:  0.8315476190476191\n",
            "Iteration:  180\n",
            "[1 0 1 ... 7 6 9] [1 0 1 ... 7 6 9]\n",
            "Accuracy:  0.830047619047619\n",
            "Iteration:  190\n",
            "[1 0 1 ... 7 6 9] [1 0 1 ... 7 6 9]\n",
            "Accuracy:  0.800952380952381\n",
            "Iteration:  200\n",
            "[1 0 1 ... 7 6 9] [1 0 1 ... 7 6 9]\n",
            "Accuracy:  0.8349285714285715\n",
            "Iteration:  210\n",
            "[1 0 1 ... 7 6 9] [1 0 1 ... 7 6 9]\n",
            "Accuracy:  0.8144523809523809\n",
            "Iteration:  220\n",
            "[8 0 1 ... 7 6 9] [1 0 1 ... 7 6 9]\n",
            "Accuracy:  0.7862380952380953\n",
            "Iteration:  230\n",
            "[1 0 1 ... 7 6 9] [1 0 1 ... 7 6 9]\n",
            "Accuracy:  0.8347142857142857\n",
            "Iteration:  240\n",
            "[1 0 1 ... 7 6 9] [1 0 1 ... 7 6 9]\n",
            "Accuracy:  0.846\n",
            "Iteration:  250\n",
            "[1 0 1 ... 7 6 9] [1 0 1 ... 7 6 9]\n",
            "Accuracy:  0.773\n",
            "Iteration:  260\n",
            "[1 0 1 ... 7 6 9] [1 0 1 ... 7 6 9]\n",
            "Accuracy:  0.8658571428571429\n",
            "Iteration:  270\n",
            "[1 0 1 ... 7 6 9] [1 0 1 ... 7 6 9]\n",
            "Accuracy:  0.8011190476190476\n",
            "Iteration:  280\n",
            "[1 0 1 ... 7 6 9] [1 0 1 ... 7 6 9]\n",
            "Accuracy:  0.7827619047619048\n",
            "Iteration:  290\n",
            "[1 0 1 ... 7 6 9] [1 0 1 ... 7 6 9]\n",
            "Accuracy:  0.8342857142857143\n",
            "Iteration:  300\n",
            "[1 0 1 ... 7 6 9] [1 0 1 ... 7 6 9]\n",
            "Accuracy:  0.8495952380952381\n",
            "Iteration:  310\n",
            "[1 0 1 ... 7 6 7] [1 0 1 ... 7 6 9]\n",
            "Accuracy:  0.7044285714285714\n",
            "Iteration:  320\n",
            "[1 0 1 ... 7 6 9] [1 0 1 ... 7 6 9]\n",
            "Accuracy:  0.8708809523809524\n",
            "Iteration:  330\n",
            "[1 0 1 ... 7 6 9] [1 0 1 ... 7 6 9]\n",
            "Accuracy:  0.8520714285714286\n",
            "Iteration:  340\n",
            "[1 0 1 ... 7 6 9] [1 0 1 ... 7 6 9]\n",
            "Accuracy:  0.8638095238095238\n",
            "Iteration:  350\n",
            "[1 0 1 ... 7 6 9] [1 0 1 ... 7 6 9]\n",
            "Accuracy:  0.8542380952380952\n",
            "Iteration:  360\n",
            "[1 0 1 ... 7 6 9] [1 0 1 ... 7 6 9]\n",
            "Accuracy:  0.8643809523809524\n",
            "Iteration:  370\n",
            "[5 0 1 ... 7 6 4] [1 0 1 ... 7 6 9]\n",
            "Accuracy:  0.7574761904761905\n",
            "Iteration:  380\n",
            "[1 0 1 ... 7 6 9] [1 0 1 ... 7 6 9]\n",
            "Accuracy:  0.8578333333333333\n",
            "Iteration:  390\n",
            "[1 0 1 ... 7 6 9] [1 0 1 ... 7 6 9]\n",
            "Accuracy:  0.873547619047619\n",
            "Iteration:  400\n",
            "[8 0 1 ... 7 6 9] [1 0 1 ... 7 6 9]\n",
            "Accuracy:  0.7225\n",
            "Iteration:  410\n",
            "[1 0 1 ... 7 6 4] [1 0 1 ... 7 6 9]\n",
            "Accuracy:  0.7235714285714285\n",
            "Iteration:  420\n",
            "[1 0 1 ... 7 6 9] [1 0 1 ... 7 6 9]\n",
            "Accuracy:  0.8626190476190476\n",
            "Iteration:  430\n",
            "[1 0 1 ... 7 6 9] [1 0 1 ... 7 6 9]\n",
            "Accuracy:  0.8193809523809524\n",
            "Iteration:  440\n",
            "[1 0 1 ... 7 6 9] [1 0 1 ... 7 6 9]\n",
            "Accuracy:  0.8654047619047619\n",
            "Iteration:  450\n",
            "[1 0 1 ... 7 6 9] [1 0 1 ... 7 6 9]\n",
            "Accuracy:  0.8476428571428571\n",
            "Iteration:  460\n",
            "[1 0 1 ... 7 6 9] [1 0 1 ... 7 6 9]\n",
            "Accuracy:  0.8769761904761905\n",
            "Iteration:  470\n",
            "[1 0 1 ... 7 6 9] [1 0 1 ... 7 6 9]\n",
            "Accuracy:  0.8625952380952381\n",
            "Iteration:  480\n",
            "[8 0 1 ... 7 6 9] [1 0 1 ... 7 6 9]\n",
            "Accuracy:  0.8101904761904762\n",
            "Iteration:  490\n",
            "[1 0 1 ... 7 6 9] [1 0 1 ... 7 6 9]\n",
            "Accuracy:  0.8848333333333334\n"
          ]
        }
      ]
    },
    {
      "cell_type": "code",
      "source": [
        "def make_predictions(x, w1, b1, w2, b2):\n",
        "  _, _, _, a2 = forward_prop(w1, b1, w2, b2, x)\n",
        "  predictions = get_predictions(a2)\n",
        "  return predictions\n",
        "\n",
        "def test_prediction(index, w1, b1, w2, b2):\n",
        "  current_image = x_test[:, index, None]\n",
        "  predictions = make_predictions(x_test[:, index, None], w1, b1, w2, b2)\n",
        "  label = y_test[index]\n",
        "  print(\"Prediction: \", predictions)\n",
        "  print(\"Label: \", label)\n",
        "\n",
        "  current_image = current_image.reshape((28,28))\n",
        "  plt.gray()\n",
        "  plt.imshow(current_image, interpolation='nearest')\n",
        "  plt.show()"
      ],
      "metadata": {
        "id": "t1uEAYxKLu1a"
      },
      "execution_count": 90,
      "outputs": []
    },
    {
      "cell_type": "code",
      "source": [
        "test_prediction(1, w1, b1, w2, b2)\n",
        "test_prediction(2, w1, b1, w2, b2)\n",
        "test_prediction(3, w1, b1, w2, b2)"
      ],
      "metadata": {
        "colab": {
          "base_uri": "https://localhost:8080/",
          "height": 1000
        },
        "id": "X0g-j5i7NMNT",
        "outputId": "d170418c-5879-4fa8-b285-56874e415870"
      },
      "execution_count": 93,
      "outputs": [
        {
          "output_type": "stream",
          "name": "stdout",
          "text": [
            "Prediction:  [0]\n",
            "Label:  0\n"
          ]
        },
        {
          "output_type": "display_data",
          "data": {
            "text/plain": [
              "<Figure size 640x480 with 1 Axes>"
            ],
            "image/png": "[encoded data removed]"
          },
          "metadata": {}
        },
        {
          "output_type": "stream",
          "name": "stdout",
          "text": [
            "Prediction:  [1]\n",
            "Label:  1\n"
          ]
        },
        {
          "output_type": "display_data",
          "data": {
            "text/plain": [
              "<Figure size 640x480 with 1 Axes>"
            ],
            "image/png": "[encoded data removed]"
          },
          "metadata": {}
        },
        {
          "output_type": "stream",
          "name": "stdout",
          "text": [
            "Prediction:  [2]\n",
            "Label:  4\n"
          ]
        },
        {
          "output_type": "display_data",
          "data": {
            "text/plain": [
              "<Figure size 640x480 with 1 Axes>"
            ],
            "image/png": "[encoded data removed]"
          },
          "metadata": {}
        }
      ]
    }
  ],
  "metadata": {
    "colab": {
      "provenance": [],
      "gpuType": "T4",
      "authorship_tag": "ABX9TyMK5rDZXcNVsINqMLWxNNwT",
      "include_colab_link": true
    },
    "kernelspec": {
      "display_name": "Python 3",
      "name": "python3"
    },
    "language_info": {
      "name": "python"
    },
    "accelerator": "GPU"
  },
  "nbformat": 4,
  "nbformat_minor": 0
}
